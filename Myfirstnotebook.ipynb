{
 "cells": [
  {
   "cell_type": "code",
   "execution_count": 1,
   "id": "5c320abf",
   "metadata": {},
   "outputs": [
    {
     "name": "stdout",
     "output_type": "stream",
     "text": [
      "Hello World\n"
     ]
    }
   ],
   "source": [
    "print(\"Hello World\")"
   ]
  },
  {
   "cell_type": "code",
   "execution_count": 2,
   "id": "97b9d913",
   "metadata": {},
   "outputs": [
    {
     "name": "stdout",
     "output_type": "stream",
     "text": [
      "Hi guys! My name is Kavisha. How are you doing?\n"
     ]
    }
   ],
   "source": [
    "print(\"Hi guys! My name is Kavisha. How are you doing?\")"
   ]
  },
  {
   "cell_type": "code",
   "execution_count": 3,
   "id": "623d6d13",
   "metadata": {},
   "outputs": [
    {
     "name": "stdout",
     "output_type": "stream",
     "text": [
      "This time i am using single quote\n"
     ]
    }
   ],
   "source": [
    "print('This time i am using single quote')"
   ]
  },
  {
   "cell_type": "code",
   "execution_count": 4,
   "id": "86c3d2db",
   "metadata": {},
   "outputs": [
    {
     "name": "stdout",
     "output_type": "stream",
     "text": [
      "I love Dogs\n"
     ]
    }
   ],
   "source": [
    "print(\"I love Dogs\")"
   ]
  },
  {
   "cell_type": "code",
   "execution_count": 5,
   "id": "39e978de",
   "metadata": {},
   "outputs": [
    {
     "name": "stdout",
     "output_type": "stream",
     "text": [
      "10\n"
     ]
    }
   ],
   "source": [
    "x=10\n",
    "y=5\n",
    "print(x)"
   ]
  },
  {
   "cell_type": "code",
   "execution_count": 6,
   "id": "460e4586",
   "metadata": {},
   "outputs": [
    {
     "name": "stdout",
     "output_type": "stream",
     "text": [
      "x\n"
     ]
    }
   ],
   "source": [
    "x=10\n",
    "y=5\n",
    "print('x')"
   ]
  },
  {
   "cell_type": "code",
   "execution_count": 8,
   "id": "9ed96f36",
   "metadata": {},
   "outputs": [
    {
     "name": "stdout",
     "output_type": "stream",
     "text": [
      "5\n"
     ]
    }
   ],
   "source": [
    "x=10\n",
    "y=5\n",
    "print(y)"
   ]
  },
  {
   "cell_type": "code",
   "execution_count": 9,
   "id": "ea4390d5",
   "metadata": {},
   "outputs": [
    {
     "name": "stdout",
     "output_type": "stream",
     "text": [
      "10\n"
     ]
    }
   ],
   "source": [
    "print(x)"
   ]
  },
  {
   "cell_type": "code",
   "execution_count": 10,
   "id": "44dee0e8",
   "metadata": {},
   "outputs": [
    {
     "name": "stdout",
     "output_type": "stream",
     "text": [
      "15\n"
     ]
    }
   ],
   "source": [
    "print(x+y)"
   ]
  },
  {
   "cell_type": "code",
   "execution_count": 11,
   "id": "af274096",
   "metadata": {},
   "outputs": [
    {
     "name": "stdout",
     "output_type": "stream",
     "text": [
      "50\n"
     ]
    }
   ],
   "source": [
    "print(x*y)"
   ]
  },
  {
   "cell_type": "code",
   "execution_count": 12,
   "id": "2b1c89d8",
   "metadata": {},
   "outputs": [
    {
     "name": "stdout",
     "output_type": "stream",
     "text": [
      "2.0\n"
     ]
    }
   ],
   "source": [
    "print(x/y)"
   ]
  },
  {
   "cell_type": "code",
   "execution_count": 13,
   "id": "cf3e6fd8",
   "metadata": {},
   "outputs": [
    {
     "name": "stdout",
     "output_type": "stream",
     "text": [
      "0.5\n"
     ]
    }
   ],
   "source": [
    "print(y/x)"
   ]
  },
  {
   "cell_type": "code",
   "execution_count": 14,
   "id": "a9af3b21",
   "metadata": {},
   "outputs": [
    {
     "name": "stdout",
     "output_type": "stream",
     "text": [
      "50\n"
     ]
    }
   ],
   "source": [
    "z=x*y\n",
    "print(z)"
   ]
  },
  {
   "cell_type": "code",
   "execution_count": 15,
   "id": "e3560739",
   "metadata": {},
   "outputs": [
    {
     "name": "stdout",
     "output_type": "stream",
     "text": [
      "Sum of x and y= 15\n"
     ]
    }
   ],
   "source": [
    "print(\"Sum of x and y=\",x+y)"
   ]
  },
  {
   "cell_type": "code",
   "execution_count": 16,
   "id": "00d1f812",
   "metadata": {},
   "outputs": [
    {
     "name": "stdout",
     "output_type": "stream",
     "text": [
      "Sum of x and y=\n"
     ]
    }
   ],
   "source": [
    "print(\"Sum of x and y=\")"
   ]
  },
  {
   "cell_type": "code",
   "execution_count": 17,
   "id": "023ee046",
   "metadata": {},
   "outputs": [
    {
     "ename": "SyntaxError",
     "evalue": "invalid syntax (3753206570.py, line 1)",
     "output_type": "error",
     "traceback": [
      "\u001b[1;36m  Input \u001b[1;32mIn [17]\u001b[1;36m\u001b[0m\n\u001b[1;33m    print(\"The values of x and y are\",x \"&\",y,\"respectively\")\u001b[0m\n\u001b[1;37m                                        ^\u001b[0m\n\u001b[1;31mSyntaxError\u001b[0m\u001b[1;31m:\u001b[0m invalid syntax\n"
     ]
    }
   ],
   "source": [
    "print(\"The values of x and y are\",x \"&\",y,\"respectively\")"
   ]
  },
  {
   "cell_type": "code",
   "execution_count": 18,
   "id": "2ffc015f",
   "metadata": {},
   "outputs": [
    {
     "name": "stdout",
     "output_type": "stream",
     "text": [
      "The values of x and y are 10 and 5 respectively\n"
     ]
    }
   ],
   "source": [
    "print(\"The values of x and y are\",x,\"and\",y,\"respectively\")"
   ]
  },
  {
   "cell_type": "code",
   "execution_count": 19,
   "id": "8192c56b",
   "metadata": {},
   "outputs": [
    {
     "ename": "SyntaxError",
     "evalue": "invalid syntax (3406432231.py, line 1)",
     "output_type": "error",
     "traceback": [
      "\u001b[1;36m  Input \u001b[1;32mIn [19]\u001b[1;36m\u001b[0m\n\u001b[1;33m    print(\"Multiplication of x and y =\"x*y)\u001b[0m\n\u001b[1;37m                                       ^\u001b[0m\n\u001b[1;31mSyntaxError\u001b[0m\u001b[1;31m:\u001b[0m invalid syntax\n"
     ]
    }
   ],
   "source": [
    "print(\"Multiplication of x and y =\"x*y)"
   ]
  },
  {
   "cell_type": "code",
   "execution_count": 20,
   "id": "497750ac",
   "metadata": {},
   "outputs": [
    {
     "ename": "SyntaxError",
     "evalue": "invalid syntax (2887981443.py, line 1)",
     "output_type": "error",
     "traceback": [
      "\u001b[1;36m  Input \u001b[1;32mIn [20]\u001b[1;36m\u001b[0m\n\u001b[1;33m    print(\"multipliaction of x and y=\" x*y)\u001b[0m\n\u001b[1;37m                                       ^\u001b[0m\n\u001b[1;31mSyntaxError\u001b[0m\u001b[1;31m:\u001b[0m invalid syntax\n"
     ]
    }
   ],
   "source": [
    "print(\"multipliaction of x and y=\" x*y)"
   ]
  },
  {
   "cell_type": "code",
   "execution_count": 21,
   "id": "d71d7e1a",
   "metadata": {},
   "outputs": [
    {
     "ename": "SyntaxError",
     "evalue": "invalid syntax (2258342447.py, line 1)",
     "output_type": "error",
     "traceback": [
      "\u001b[1;36m  Input \u001b[1;32mIn [21]\u001b[1;36m\u001b[0m\n\u001b[1;33m    print(\"Multiplication of x and y=\"x*y)\u001b[0m\n\u001b[1;37m                                      ^\u001b[0m\n\u001b[1;31mSyntaxError\u001b[0m\u001b[1;31m:\u001b[0m invalid syntax\n"
     ]
    }
   ],
   "source": [
    "print(\"Multiplication of x and y=\"x*y)"
   ]
  },
  {
   "cell_type": "code",
   "execution_count": 23,
   "id": "c24e9092",
   "metadata": {},
   "outputs": [
    {
     "name": "stdout",
     "output_type": "stream",
     "text": [
      "Multiply of x & y = 50\n"
     ]
    }
   ],
   "source": [
    "print(\"Multiply of x & y =\", x*y)"
   ]
  },
  {
   "cell_type": "code",
   "execution_count": 24,
   "id": "89969c73",
   "metadata": {},
   "outputs": [
    {
     "name": "stdout",
     "output_type": "stream",
     "text": [
      "The values of x & y are 10 & 5 respectively\n"
     ]
    }
   ],
   "source": [
    "print(\"The values of x & y are\",x, \"&\",y,\"respectively\")"
   ]
  },
  {
   "cell_type": "code",
   "execution_count": 1,
   "id": "044eeb12",
   "metadata": {},
   "outputs": [
    {
     "name": "stdout",
     "output_type": "stream",
     "text": [
      "x+y whole square is 625\n",
      "x-y whole square is 25\n"
     ]
    }
   ],
   "source": [
    "x=10\n",
    "y=15\n",
    "c=x*x+2*x*y+y*y\n",
    "print(\"x+y whole square is\",c)\n",
    "\n",
    "c=x*x-2*x*y+y*y\n",
    "print(\"x-y whole square is\",c)"
   ]
  },
  {
   "cell_type": "code",
   "execution_count": 5,
   "id": "8d4b62b9",
   "metadata": {},
   "outputs": [
    {
     "name": "stdout",
     "output_type": "stream",
     "text": [
      "x+y= 15\n"
     ]
    }
   ],
   "source": [
    "y=5\n",
    "print(\"x+y=\",x+y)"
   ]
  },
  {
   "cell_type": "code",
   "execution_count": 8,
   "id": "f487b332",
   "metadata": {},
   "outputs": [
    {
     "name": "stdout",
     "output_type": "stream",
     "text": [
      "the value of a 40102.0\n"
     ]
    }
   ],
   "source": [
    "x= 100\n",
    "y= 200\n",
    "a= y/x+x+y+y*y-y\n",
    "print(\"the value of a\",a)"
   ]
  },
  {
   "cell_type": "code",
   "execution_count": null,
   "id": "19fafe9e",
   "metadata": {},
   "outputs": [],
   "source": []
  }
 ],
 "metadata": {
  "kernelspec": {
   "display_name": "Python 3 (ipykernel)",
   "language": "python",
   "name": "python3"
  },
  "language_info": {
   "codemirror_mode": {
    "name": "ipython",
    "version": 3
   },
   "file_extension": ".py",
   "mimetype": "text/x-python",
   "name": "python",
   "nbconvert_exporter": "python",
   "pygments_lexer": "ipython3",
   "version": "3.9.12"
  }
 },
 "nbformat": 4,
 "nbformat_minor": 5
}
